{
 "cells": [
  {
   "cell_type": "code",
   "execution_count": 16,
   "metadata": {},
   "outputs": [
    {
     "name": "stdout",
     "output_type": "stream",
     "text": [
      "Precaución:\n",
      "La velocidad del asteroide es: 49km/s\n",
      "Esta velocidad supera la velocidad de seguridad que es de 25 km/s\n"
     ]
    }
   ],
   "source": [
    "# Añadir el código necesario para crear una variable que guarde la velocidad del asteroide.\n",
    "astspeed=49\n",
    "# Escribe una expresión de prueba para calcular si necesita una advertencia.\n",
    "if astspeed>25:\n",
    "    print('Precaución:\\nLa velocidad del asteroide es: '+str (astspeed)+'km/s\\nEsta velocidad supera la velocidad de seguridad que es de 25 km/s')\n",
    "else:\n",
    "    print('Actualmente no hay asteroides que superen la velocidad de seguridad')\n",
    "# Agregue las instrucciones que se ejecutarán si la expresión de prueba es true o false."
   ]
  },
  {
   "cell_type": "code",
   "execution_count": 12,
   "metadata": {},
   "outputs": [
    {
     "name": "stdout",
     "output_type": "stream",
     "text": [
      "Actualmente no hay asteroides visibles\n"
     ]
    }
   ],
   "source": [
    "# Agrega el código para crear una variable para un asteroide que viaja a 19 km/s\n",
    "astspeed=19\n",
    "# Escribe varias expresiones de prueba para determinar si puedes ver el rayo de luz desde la tierra\n",
    "if astspeed>=20:\n",
    "    print('Hay un asteroide en el cielo que posiblemente puedas observar\\nVoltea hacia arriba y busca la linea de luz')\n",
    "else:\n",
    "    print('Actualmente no hay asteroides visibles')\n",
    "# Agrega las instrucciones que se ejecutarán si las expresiones de prueba son True o False"
   ]
  },
  {
   "cell_type": "code",
   "execution_count": 20,
   "metadata": {},
   "outputs": [
    {
     "name": "stdout",
     "output_type": "stream",
     "text": [
      "Disfruta de lo que te queda de vida y reza por que la libremos.\n",
      "Viene un asteroide de 1000 metros a una vlocidad de 49km/s.\n",
      "Si choca con la tierra, toda la vida desaparecerá.\n",
      "Suerte!\n"
     ]
    }
   ],
   "source": [
    "# Agrega el código para crear nuevas variables para la velocidad y el tamaño del asteroide\n",
    "# Para probar el código, prueba con varias velocidades y tamaños\n",
    "# Escribe varias expresiones de prueba o combinaciones de expresiones de prueba para determinar qué mensaje se debe enviar a Tierra.\n",
    "astspeed=49\n",
    "astsize=1000\n",
    "\n",
    "if astspeed>25 and astsize>=1000:\n",
    "    print('Disfruta de lo que te queda de vida y reza por que la libremos.\\nViene un asteroide de '+str(astsize)+' metros a una vlocidad de '+str(astspeed)+'km/s.\\nSi choca con la tierra, toda la vida desaparecerá.\\nSuerte!')\n",
    "elif astspeed>25 and astsize>25:\n",
    "    print('Busca un lugar seguro.\\nViene un asteroide de '+str(astsize)+' metros a una vlocidad de '+str(astspeed)+'km/s.\\nSi choca con la tierra, causaría mucho daño.\\nSuerte!')\n",
    "elif astspeed>=20:\n",
    "    print('Hay un asteroide en el cielo que posiblemente puedas observar\\nVoltea hacia arriba y busca la linea de luz')\n",
    "else:\n",
    "    print('Actualmente no hay asteroides visibles')"
   ]
  }
 ],
 "metadata": {
  "interpreter": {
   "hash": "75bd6ce75e26f55c79d641a96ecbf9b42859f15037d62cd11ff121a01c652374"
  },
  "kernelspec": {
   "display_name": "Python 3.10.2 64-bit",
   "language": "python",
   "name": "python3"
  },
  "language_info": {
   "codemirror_mode": {
    "name": "ipython",
    "version": 3
   },
   "file_extension": ".py",
   "mimetype": "text/x-python",
   "name": "python",
   "nbconvert_exporter": "python",
   "pygments_lexer": "ipython3",
   "version": "3.10.2"
  },
  "orig_nbformat": 4
 },
 "nbformat": 4,
 "nbformat_minor": 2
}
