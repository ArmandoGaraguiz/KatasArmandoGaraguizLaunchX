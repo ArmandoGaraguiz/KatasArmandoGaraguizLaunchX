{
 "cells": [
  {
   "cell_type": "markdown",
   "metadata": {},
   "source": [
    "## Ejercicio1 - Utilizar operadores aritméticos"
   ]
  },
  {
   "cell_type": "code",
   "execution_count": 1,
   "metadata": {},
   "outputs": [],
   "source": [
    "# Crear variables para almacenar las dos distancias\n",
    "# ¡Asegúrate de quitar las comas!\n",
    "earth_d=149597870\n",
    "jupiter_d=778547200"
   ]
  },
  {
   "cell_type": "code",
   "execution_count": 5,
   "metadata": {},
   "outputs": [
    {
     "name": "stdout",
     "output_type": "stream",
     "text": [
      "la distancia entre Júpiter y la tierra es de\n",
      "628949330 kilometros\n",
      "390577534 millas\n"
     ]
    }
   ],
   "source": [
    "# Calcular la distancia entre planetas\n",
    "km_dist=abs(earth_d-jupiter_d)\n",
    "mi_dist=round(km_dist*0.621)\n",
    "print(f'la distancia entre Júpiter y la tierra es de\\n{km_dist} kilometros\\n{mi_dist} millas')"
   ]
  },
  {
   "cell_type": "markdown",
   "metadata": {},
   "source": [
    "## Ejercicio 2: convierte cadenas en números y usa valores absolutos"
   ]
  },
  {
   "cell_type": "code",
   "execution_count": 10,
   "metadata": {},
   "outputs": [
    {
     "name": "stdout",
     "output_type": "stream",
     "text": [
      "la distancia entre ambos planetas es de\n",
      "700 kilometros\n",
      "435 millas\n"
     ]
    }
   ],
   "source": [
    "planet1=input('distancia del primer planeta al sol')\n",
    "planet2=input('distancia del segundo planeta al sol')\n",
    "km_dist=abs(int(planet1)-int(planet2))\n",
    "mi_dist=round(km_dist*0.621)\n",
    "print(f'la distancia entre ambos planetas es de\\n{km_dist} kilometros\\n{mi_dist} millas')"
   ]
  },
  {
   "cell_type": "code",
   "execution_count": null,
   "metadata": {},
   "outputs": [],
   "source": []
  }
 ],
 "metadata": {
  "interpreter": {
   "hash": "75bd6ce75e26f55c79d641a96ecbf9b42859f15037d62cd11ff121a01c652374"
  },
  "kernelspec": {
   "display_name": "Python 3.10.2 64-bit",
   "language": "python",
   "name": "python3"
  },
  "language_info": {
   "codemirror_mode": {
    "name": "ipython",
    "version": 3
   },
   "file_extension": ".py",
   "mimetype": "text/x-python",
   "name": "python",
   "nbconvert_exporter": "python",
   "pygments_lexer": "ipython3",
   "version": "3.10.2"
  },
  "orig_nbformat": 4
 },
 "nbformat": 4,
 "nbformat_minor": 2
}
