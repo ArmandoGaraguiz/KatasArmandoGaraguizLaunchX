{
 "cells": [
  {
   "cell_type": "markdown",
   "metadata": {},
   "source": [
    "## Ejercicio1: Crear y usar listas de Python"
   ]
  },
  {
   "cell_type": "code",
   "execution_count": 13,
   "metadata": {},
   "outputs": [
    {
     "name": "stdout",
     "output_type": "stream",
     "text": [
      "['Mercurio', 'Venus', 'Tierra', 'Marte', 'Júpiter', 'Saturno', 'Urano', 'Neptuno']\n",
      "hay  8  planetas en la lista\n"
     ]
    }
   ],
   "source": [
    "# Creamos la lista planets y la mostramos\n",
    "planets=['Mercurio', 'Venus', 'Tierra', 'Marte', 'Júpiter', 'Saturno', 'Urano', 'Neptuno']\n",
    "print(planets)\n",
    "print('hay ',len(planets),' planetas en la lista')"
   ]
  },
  {
   "cell_type": "code",
   "execution_count": 14,
   "metadata": {},
   "outputs": [
    {
     "name": "stdout",
     "output_type": "stream",
     "text": [
      "Plutón\n",
      "hay  9  planetas en la lista\n"
     ]
    }
   ],
   "source": [
    "# Agregamos a plutón y mostramos el último elemento\n",
    "planets.append('Plutón')\n",
    "print(planets[-1])\n",
    "print('hay ',len(planets),' planetas en la lista')"
   ]
  },
  {
   "cell_type": "markdown",
   "metadata": {},
   "source": [
    "## Ejercicio 2: Trabajando con datos de una lista"
   ]
  },
  {
   "cell_type": "code",
   "execution_count": 45,
   "metadata": {},
   "outputs": [],
   "source": [
    "# Lista de planetas\n",
    "planets = ['Mercury', 'Venus', 'Earth', 'Mars', 'Jupiter', 'Saturn','Uranus', 'Neptune']"
   ]
  },
  {
   "cell_type": "code",
   "execution_count": 46,
   "metadata": {},
   "outputs": [
    {
     "name": "stdout",
     "output_type": "stream",
     "text": [
      "Los planetas anteriores a  Venus son: ['Mercury'] \n",
      "Los planetas después de  Venus son: ['Earth', 'Mars', 'Jupiter', 'Saturn', 'Uranus', 'Neptune']\n"
     ]
    }
   ],
   "source": [
    "# Solicitamos el nombre de un planeta *Pista:  input()*\n",
    "planeta=input('Nombra un planeta en inglés')\n",
    "\n",
    "# Busca el planeta en la lista\n",
    "if planeta in planets:\n",
    "    ind=planets.index(planeta)\n",
    "    if ind==0:\n",
    "        print(planets[ind],' no tiene planetas mas cercanos al sol\\nLos planetas después de ',planets[ind],'son:',planets[1:len(planets)])\n",
    "    elif ind==len(planets)-1:\n",
    "        print('Los planetas anteriores a ',planets[ind],'son:',planets[0:ind],'\\nEn el sistema solar no hay planetas después de ',planets[ind])\n",
    "    else:\n",
    "        print('Los planetas anteriores a ',planets[ind],'son:',planets[0:ind],'\\nLos planetas después de ',planets[ind],'son:',planets[ind+1:len(planets)])\n",
    "else:\n",
    "    print('El planeta ingresado no esta en la lista de planetas')"
   ]
  }
 ],
 "metadata": {
  "interpreter": {
   "hash": "75bd6ce75e26f55c79d641a96ecbf9b42859f15037d62cd11ff121a01c652374"
  },
  "kernelspec": {
   "display_name": "Python 3.10.2 64-bit",
   "language": "python",
   "name": "python3"
  },
  "language_info": {
   "codemirror_mode": {
    "name": "ipython",
    "version": 3
   },
   "file_extension": ".py",
   "mimetype": "text/x-python",
   "name": "python",
   "nbconvert_exporter": "python",
   "pygments_lexer": "ipython3",
   "version": "3.10.2"
  },
  "orig_nbformat": 4
 },
 "nbformat": 4,
 "nbformat_minor": 2
}
