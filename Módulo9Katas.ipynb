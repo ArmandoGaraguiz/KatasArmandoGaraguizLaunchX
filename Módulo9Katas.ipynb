{
 "cells": [
  {
   "cell_type": "markdown",
   "metadata": {},
   "source": [
    "## Ejercicio: Uso de funciones en Python"
   ]
  },
  {
   "cell_type": "code",
   "execution_count": 4,
   "metadata": {},
   "outputs": [],
   "source": [
    "# Función para leer 3 tanques de combustible y muestre el promedio\n",
    "def three_tanks_average(tank1, tank2, tank3):\n",
    "    tank_average=(tank1+tank2+tank3)/3\n",
    "    return f'El promedio de combustible en los tanques es de {tank_average}'"
   ]
  },
  {
   "cell_type": "code",
   "execution_count": 5,
   "metadata": {},
   "outputs": [
    {
     "name": "stdout",
     "output_type": "stream",
     "text": [
      "El promedio de combustible en los tanques es de 3.0\n"
     ]
    }
   ],
   "source": [
    "# Llamamos a la función que genera el reporte\n",
    "print(three_tanks_average(2, 3, 4))"
   ]
  },
  {
   "cell_type": "code",
   "execution_count": 20,
   "metadata": {},
   "outputs": [],
   "source": [
    "def average(value):\n",
    "    if len(value)!=0:\n",
    "        av=sum(value)/len(value)\n",
    "    else:\n",
    "        av=0\n",
    "    return av"
   ]
  },
  {
   "cell_type": "code",
   "execution_count": 19,
   "metadata": {},
   "outputs": [
    {
     "name": "stdout",
     "output_type": "stream",
     "text": [
      "1.5\n"
     ]
    }
   ],
   "source": [
    "print(average(1,2))"
   ]
  },
  {
   "cell_type": "code",
   "execution_count": 21,
   "metadata": {},
   "outputs": [],
   "source": [
    "# Actualiza la función\n",
    "def tanks_average(*tanks):\n",
    "    tank_average=average(tanks)\n",
    "    return f'El promedio de combustible en los tanques es de {tank_average}'"
   ]
  },
  {
   "cell_type": "code",
   "execution_count": 23,
   "metadata": {},
   "outputs": [
    {
     "name": "stdout",
     "output_type": "stream",
     "text": [
      "El promedio de combustible en los tanques es de 21.0\n"
     ]
    }
   ],
   "source": [
    "print(tanks_average(9, 10, 44))"
   ]
  },
  {
   "cell_type": "markdown",
   "metadata": {},
   "source": [
    "## Ejercicio 2: Trabajo con argumentos de palabra clave"
   ]
  },
  {
   "cell_type": "code",
   "execution_count": 24,
   "metadata": {},
   "outputs": [],
   "source": [
    "# Función con un informe preciso de la misión. Considera hora de prelanzamiento, tiempo de vuelo, destino, tanque externo y tanque interno\n",
    "def informe(tiempo_prelanzamiento, tiempo_de_vuelo, destino, tanque_externo, tanque_interno):\n",
    "    return f'''\n",
    "    Destino le la misión:{destino}\n",
    "    Tiempo total de mision: {tiempo_prelanzamiento+tiempo_de_vuelo} minutos\n",
    "    Total de combustible: {tanque_externo+tanque_interno} litros'''"
   ]
  },
  {
   "cell_type": "code",
   "execution_count": 25,
   "metadata": {},
   "outputs": [
    {
     "name": "stdout",
     "output_type": "stream",
     "text": [
      "\n",
      "    Destino le la misión:Moon\n",
      "    Tiempo total de mision: 65 minutos\n",
      "    Total de combustible: 500000 litros\n"
     ]
    }
   ],
   "source": [
    "print(informe(14, 51, \"Moon\", 200000, 300000))"
   ]
  },
  {
   "cell_type": "code",
   "execution_count": 26,
   "metadata": {},
   "outputs": [],
   "source": [
    "def informe2(destino,*tiempos_de_mision, **tanques):\n",
    "    return f'''\n",
    "    Destino le la misión:{destino}\n",
    "    Tiempo total de mision: {sum(tiempos_de_mision)} minutos\n",
    "    Total de combustible: {sum(tanques.values())} litros'''"
   ]
  },
  {
   "cell_type": "code",
   "execution_count": 27,
   "metadata": {},
   "outputs": [
    {
     "name": "stdout",
     "output_type": "stream",
     "text": [
      "\n",
      "    Destino le la misión:Moon\n",
      "    Tiempo total de mision: 76 minutos\n",
      "    Total de combustible: 500000 litros\n"
     ]
    }
   ],
   "source": [
    "print(informe2(\"Moon\", 10, 15, 51, main=300000, external=200000))"
   ]
  },
  {
   "cell_type": "code",
   "execution_count": 30,
   "metadata": {},
   "outputs": [],
   "source": [
    "def informe2(destino,*tiempos_de_mision, **tanques):\n",
    "    reporte= f'''\n",
    "    Destino le la misión:{destino}\n",
    "    Tiempo total de mision: {sum(tiempos_de_mision)} minutos\n",
    "    Total de combustible: {sum(tanques.values())} litros'''\n",
    "    for tanque in tanques.keys():\n",
    "        reporte= reporte+f'\\n{tanque}={tanques[tanque]}'\n",
    "    return reporte"
   ]
  },
  {
   "cell_type": "code",
   "execution_count": 31,
   "metadata": {},
   "outputs": [
    {
     "name": "stdout",
     "output_type": "stream",
     "text": [
      "\n",
      "    Destino le la misión:Moon\n",
      "    Tiempo total de mision: 74 minutos\n",
      "    Total de combustible: 500000 litros\n",
      "main=300000\n",
      "external=200000\n"
     ]
    }
   ],
   "source": [
    "print(informe2(\"Moon\", 8, 11, 55, main=300000, external=200000))"
   ]
  }
 ],
 "metadata": {
  "interpreter": {
   "hash": "75bd6ce75e26f55c79d641a96ecbf9b42859f15037d62cd11ff121a01c652374"
  },
  "kernelspec": {
   "display_name": "Python 3.10.2 64-bit",
   "language": "python",
   "name": "python3"
  },
  "language_info": {
   "codemirror_mode": {
    "name": "ipython",
    "version": 3
   },
   "file_extension": ".py",
   "mimetype": "text/x-python",
   "name": "python",
   "nbconvert_exporter": "python",
   "pygments_lexer": "ipython3",
   "version": "3.10.2"
  },
  "orig_nbformat": 4
 },
 "nbformat": 4,
 "nbformat_minor": 2
}
